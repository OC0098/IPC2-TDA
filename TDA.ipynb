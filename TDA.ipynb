{
  "nbformat": 4,
  "nbformat_minor": 0,
  "metadata": {
    "colab": {
      "name": "TDA.ipynb",
      "provenance": [],
      "collapsed_sections": [
        "heQko7MFdEdo"
      ],
      "authorship_tag": "ABX9TyOMIE73o81IhYq+tHKvCkUJ",
      "include_colab_link": true
    },
    "kernelspec": {
      "name": "python3",
      "display_name": "Python 3"
    }
  },
  "cells": [
    {
      "cell_type": "markdown",
      "metadata": {
        "id": "view-in-github",
        "colab_type": "text"
      },
      "source": [
        "<a href=\"https://colab.research.google.com/github/OC0098/IPC2-TDA/blob/main/TDA.ipynb\" target=\"_parent\"><img src=\"https://colab.research.google.com/assets/colab-badge.svg\" alt=\"Open In Colab\"/></a>"
      ]
    },
    {
      "cell_type": "markdown",
      "metadata": {
        "id": "heQko7MFdEdo"
      },
      "source": [
        "# ***Ejercicio de Listas Enlazadas***\r\n",
        "A continuación veremos unos pequeños ejemplos de listas enlazadas realizadas en python. "
      ]
    },
    {
      "cell_type": "code",
      "metadata": {
        "id": "5GRGVbMkdm_B"
      },
      "source": [
        "# Clases / Objetos del programa - Ejemplo de Lista enlazada\r\n",
        "class Cliente():\r\n",
        "  def __init__(self, nombre, habitacion):\r\n",
        "    self.nombre=nombre\r\n",
        "    self.habitacion=habitacion\r\n",
        "\r\n",
        "class Nodo():\r\n",
        "  def __init__(self, cliente=None, next=None):\r\n",
        "    self.cliente = cliente\r\n",
        "    self.next = next\r\n",
        "\r\n",
        "class LinkedList():\r\n",
        "  def __init__(self):\r\n",
        "    self.head = None\r\n",
        "    self.size = 0\r\n",
        "\r\n",
        "  def add_cliente(self, cliente):\r\n",
        "    if not self.head:\r\n",
        "      self.head = Nodo(cliente=cliente)\r\n",
        "      return\r\n",
        "    current = self.head\r\n",
        "    while current.next:\r\n",
        "      current = current.next\r\n",
        "    current.next = Nodo(cliente=cliente)\r\n",
        "  \r\n",
        "  def get_cliente(self):\r\n",
        "    if not self.head:\r\n",
        "      print(\"Lista Vacía\")\r\n",
        "    else:\r\n",
        "      current = self.head\r\n",
        "      while current != None:\r\n",
        "        print(\"cliente:{}\".format(current.cliente.nombre), end=\"==>\")\r\n",
        "        current = current.next\r\n",
        "      print(current)\r\n",
        "\r\n",
        "  def delete_cliente(self, habitacion):\r\n",
        "    if not self.head:\r\n",
        "      print(\"No se puede eliminar si la lista está vacía\")\r\n",
        "    else:\r\n",
        "      current = self.head\r\n",
        "      previus = None\r\n",
        "      while current and current.cliente.habitacion != habitacion:\r\n",
        "        previus = current\r\n",
        "        current = current.next\r\n",
        "      if previus is None:\r\n",
        "        self.head = current.next\r\n",
        "      elif current:\r\n",
        "        previus.next = current.next\r\n",
        "        current.next = None\r\n",
        "\r\n",
        "\r\n",
        "    \r\n",
        "# Funciones generales del programa\r\n",
        "def solicitar_datos():\r\n",
        "  try:\r\n",
        "    nombre = input(\"Ingrese el nombre:\")\r\n",
        "    habitacion = int(input(\"Ingrese la habitación:\"))\r\n",
        "    cliente = Cliente(nombre, habitacion)\r\n",
        "  except ValueError as value:\r\n",
        "    print(\"El dato ingresado en el apartado de habitacion debe de ser un número, intenta nuevamente.\")\r\n",
        "    cliente = solicitar_datos()\r\n",
        "  return cliente\r\n",
        "\r\n",
        "# Programa principal, inicialización, etc. \r\n",
        "lista = LinkedList()\r\n",
        "\r\n",
        "if __name__ == \"__main__\":\r\n",
        "  print(\"Registro de Clientes Hotel - My.Hotel\")\r\n",
        "  c1=Cliente(\"Oscar Calderón\", 101)\r\n",
        "  c2=Cliente(\"Veronica Calderón\", 105)\r\n",
        "  c3=Cliente(\"Blanca Soto\", 102)\r\n",
        "  c4=Cliente(\"Estuardo Zapeta\", 103)\r\n",
        "  lista.add_cliente(cliente=c1)\r\n",
        "  lista.add_cliente(cliente=c2)\r\n",
        "  lista.add_cliente(cliente=c3)\r\n",
        "  lista.add_cliente(cliente=c4)\r\n",
        "  lista.get_cliente()\r\n",
        "  lista.delete_cliente(102)\r\n",
        "  lista.get_cliente()"
      ],
      "execution_count": null,
      "outputs": []
    },
    {
      "cell_type": "markdown",
      "metadata": {
        "id": "EkpSEafjohJG"
      },
      "source": [
        "# ***Ejercicio de Lista Circulares***\r\n",
        "\r\n",
        "Pequeño ejercicio de listas circulares, muy parecido al de arriba."
      ]
    },
    {
      "cell_type": "code",
      "metadata": {
        "id": "frcNGZmwosxL"
      },
      "source": [
        "class LinkedListCircular():\r\n",
        "  def __init__(self, head):\r\n",
        "    self.head=head\r\n",
        "    self.head.next=head\r\n",
        "\r\n",
        "  def add_cliente(self, cliente):\r\n",
        "    pass"
      ],
      "execution_count": null,
      "outputs": []
    },
    {
      "cell_type": "markdown",
      "metadata": {
        "id": "qDTbQLDyc-vT"
      },
      "source": [
        "# ***Pilas***"
      ]
    },
    {
      "cell_type": "code",
      "metadata": {
        "id": "y_VOBGVbdBzD"
      },
      "source": [
        "class Pila:\r\n",
        "  def __init__(self):\r\n",
        "    self.pila = []\r\n",
        "\r\n",
        "  def apilar(self, cliente):\r\n",
        "    self.pila.append(cliente)\r\n",
        "\r\n",
        "  def devolver_tamanio(self):\r\n",
        "    return len(self.pila)\r\n",
        "\r\n",
        "  def imprimir(self):\r\n",
        "    for elemento in self.pila:\r\n",
        "      #\"Nombre:{}\\nHabitacion:{}\\n\\n\".format(elemento.nombre, elemento.habitacion)\r\n",
        "      print(elemento.nombre, end = \"=>\")\r\n",
        "\r\n",
        "  def desapilar(self):\r\n",
        "    if self.pila:\r\n",
        "      self.pila.pop()"
      ],
      "execution_count": 13,
      "outputs": []
    },
    {
      "cell_type": "code",
      "metadata": {
        "id": "Zl0b7P9_eEXE"
      },
      "source": [
        "# Clases / Objetos del programa - Ejemplo de Lista enlazada\r\n",
        "class Cliente():\r\n",
        "  def __init__(self, nombre, habitacion):\r\n",
        "    self.nombre=nombre\r\n",
        "    self.habitacion=habitacion"
      ],
      "execution_count": 2,
      "outputs": []
    },
    {
      "cell_type": "code",
      "metadata": {
        "id": "2lWuC705eMRT"
      },
      "source": [
        "c1 = Cliente(\"Estuado Zapeta\", 101)\r\n",
        "c2 = Cliente(\"Oscar Calderon\", 101)\r\n",
        "c3 = Cliente(\"Juan López\", 101)\r\n",
        "c4 = Cliente(\"Ana García\", 101)"
      ],
      "execution_count": 3,
      "outputs": []
    },
    {
      "cell_type": "code",
      "metadata": {
        "colab": {
          "base_uri": "https://localhost:8080/"
        },
        "id": "pcPZtm80eYUk",
        "outputId": "a5a3abc8-9464-4ffc-c8b8-e45188a2bf5f"
      },
      "source": [
        "p = Pila()\r\n",
        "p.apilar(c1)\r\n",
        "p.apilar(c2)\r\n",
        "p.apilar(c3)\r\n",
        "p.apilar(c4)\r\n",
        "\r\n",
        "print(p.devolver_tamanio())\r\n",
        "p.imprimir()\r\n",
        "print(\"\\n\")\r\n",
        "p.desapilar()\r\n",
        "p.imprimir()\r\n",
        "print(\"\\n\")\r\n",
        "p.desapilar()\r\n",
        "p.imprimir()\r\n",
        "print(\"\\n\")"
      ],
      "execution_count": 15,
      "outputs": [
        {
          "output_type": "stream",
          "text": [
            "4\n",
            "Estuado Zapeta=>Oscar Calderon=>Juan López=>Ana García=>\n",
            "\n",
            "Estuado Zapeta=>Oscar Calderon=>Juan López=>\n",
            "\n",
            "Estuado Zapeta=>Oscar Calderon=>\n",
            "\n"
          ],
          "name": "stdout"
        }
      ]
    }
  ]
}